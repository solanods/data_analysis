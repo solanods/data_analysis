{
  "nbformat": 4,
  "nbformat_minor": 0,
  "metadata": {
    "colab": {
      "name": "limpeza_atividades_pro_setra.ipynb",
      "provenance": [],
      "authorship_tag": "ABX9TyMrKcf9fqV0P3M/R/OsUUMX",
      "include_colab_link": true
    },
    "kernelspec": {
      "name": "python3",
      "display_name": "Python 3"
    },
    "language_info": {
      "name": "python"
    }
  },
  "cells": [
    {
      "cell_type": "markdown",
      "metadata": {
        "id": "view-in-github",
        "colab_type": "text"
      },
      "source": [
        "<a href=\"https://colab.research.google.com/github/solanods/data_analysis/blob/main/limpeza_atividades_pro_setra.ipynb\" target=\"_parent\"><img src=\"https://colab.research.google.com/assets/colab-badge.svg\" alt=\"Open In Colab\"/></a>"
      ]
    },
    {
      "cell_type": "code",
      "execution_count": null,
      "metadata": {
        "id": "T3qDhStFTGeB"
      },
      "outputs": [],
      "source": [
        "import pandas as pd\n",
        "df = pd.read_csv('progress.pro-setra.csv')"
      ]
    },
    {
      "cell_type": "code",
      "source": [
        "#remover colunas\n",
        "df = df.drop(columns=['Usuário afetado', 'Componente', 'Descrição', 'Origem', 'endereço IP'])"
      ],
      "metadata": {
        "id": "JaLEGaPETjFW"
      },
      "execution_count": null,
      "outputs": []
    },
    {
      "cell_type": "code",
      "source": [
        "df"
      ],
      "metadata": {
        "colab": {
          "base_uri": "https://localhost:8080/",
          "height": 468
        },
        "id": "240nVBxZT0i3",
        "outputId": "456709ea-cd18-4aed-9db8-0eb054d56592"
      },
      "execution_count": null,
      "outputs": [
        {
          "output_type": "execute_result",
          "data": {
            "text/html": [
              "\n",
              "  <div id=\"df-ddb811a9-6447-49dd-bc35-b4ea0c645606\">\n",
              "    <div class=\"colab-df-container\">\n",
              "      <div>\n",
              "<style scoped>\n",
              "    .dataframe tbody tr th:only-of-type {\n",
              "        vertical-align: middle;\n",
              "    }\n",
              "\n",
              "    .dataframe tbody tr th {\n",
              "        vertical-align: top;\n",
              "    }\n",
              "\n",
              "    .dataframe thead th {\n",
              "        text-align: right;\n",
              "    }\n",
              "</style>\n",
              "<table border=\"1\" class=\"dataframe\">\n",
              "  <thead>\n",
              "    <tr style=\"text-align: right;\">\n",
              "      <th></th>\n",
              "      <th>Hora</th>\n",
              "      <th>Nome completo</th>\n",
              "      <th>Contexto do Evento</th>\n",
              "      <th>Nome do evento</th>\n",
              "    </tr>\n",
              "  </thead>\n",
              "  <tbody>\n",
              "    <tr>\n",
              "      <th>0</th>\n",
              "      <td>1/02/2022 17:02</td>\n",
              "      <td>EDELVIRA SILVA</td>\n",
              "      <td>Livro: ANEXO I - CADERNO DE PA'S</td>\n",
              "      <td>Conclusão da atividade do curso atualizada</td>\n",
              "    </tr>\n",
              "    <tr>\n",
              "      <th>1</th>\n",
              "      <td>1/02/2022 17:02</td>\n",
              "      <td>EDELVIRA SILVA</td>\n",
              "      <td>Livro: ANEXO I - CADERNO DE PA'S</td>\n",
              "      <td>Conclusão da atividade do curso atualizada</td>\n",
              "    </tr>\n",
              "    <tr>\n",
              "      <th>2</th>\n",
              "      <td>1/02/2022 17:02</td>\n",
              "      <td>EDELVIRA SILVA</td>\n",
              "      <td>Página: Regulamentação de limite de velocidade...</td>\n",
              "      <td>Conclusão da atividade do curso atualizada</td>\n",
              "    </tr>\n",
              "    <tr>\n",
              "      <th>3</th>\n",
              "      <td>1/02/2022 17:02</td>\n",
              "      <td>EDELVIRA SILVA</td>\n",
              "      <td>Página: Regulamentação de limite de velocidade...</td>\n",
              "      <td>Conclusão da atividade do curso atualizada</td>\n",
              "    </tr>\n",
              "    <tr>\n",
              "      <th>4</th>\n",
              "      <td>1/02/2022 17:01</td>\n",
              "      <td>EDELVIRA SILVA</td>\n",
              "      <td>Pesquisa: Avaliação de Satisfação - Modalidade...</td>\n",
              "      <td>Conclusão da atividade do curso atualizada</td>\n",
              "    </tr>\n",
              "    <tr>\n",
              "      <th>...</th>\n",
              "      <td>...</td>\n",
              "      <td>...</td>\n",
              "      <td>...</td>\n",
              "      <td>...</td>\n",
              "    </tr>\n",
              "    <tr>\n",
              "      <th>3591</th>\n",
              "      <td>14/10/2021 10:04</td>\n",
              "      <td>Solano Cruz Junior</td>\n",
              "      <td>Página: PRO-SETRA-001: Emissão de PAs nos Trens</td>\n",
              "      <td>Módulo de curso atualizado</td>\n",
              "    </tr>\n",
              "    <tr>\n",
              "      <th>3592</th>\n",
              "      <td>14/10/2021 10:00</td>\n",
              "      <td>Solano Cruz Junior</td>\n",
              "      <td>Página: PRO-SETRA-001: Emissão de PAs nos Trens</td>\n",
              "      <td>Módulo de curso atualizado</td>\n",
              "    </tr>\n",
              "    <tr>\n",
              "      <th>3593</th>\n",
              "      <td>14/10/2021 09:42</td>\n",
              "      <td>Solano Cruz Junior</td>\n",
              "      <td>Página: PRO-SETRA-001: Emissão de PAs nos Trens</td>\n",
              "      <td>Módulo de curso atualizado</td>\n",
              "    </tr>\n",
              "    <tr>\n",
              "      <th>3594</th>\n",
              "      <td>14/10/2021 09:36</td>\n",
              "      <td>Solano Cruz Junior</td>\n",
              "      <td>Página: PRO-SETRA-001: Emissão de PAs nos Trens</td>\n",
              "      <td>Módulo de curso atualizado</td>\n",
              "    </tr>\n",
              "    <tr>\n",
              "      <th>3595</th>\n",
              "      <td>14/10/2021 09:31</td>\n",
              "      <td>Solano Cruz Junior</td>\n",
              "      <td>Curso: PROCEDIMENTOS SETRA</td>\n",
              "      <td>Tópico de curso atualizado</td>\n",
              "    </tr>\n",
              "  </tbody>\n",
              "</table>\n",
              "<p>3596 rows × 4 columns</p>\n",
              "</div>\n",
              "      <button class=\"colab-df-convert\" onclick=\"convertToInteractive('df-ddb811a9-6447-49dd-bc35-b4ea0c645606')\"\n",
              "              title=\"Convert this dataframe to an interactive table.\"\n",
              "              style=\"display:none;\">\n",
              "        \n",
              "  <svg xmlns=\"http://www.w3.org/2000/svg\" height=\"24px\"viewBox=\"0 0 24 24\"\n",
              "       width=\"24px\">\n",
              "    <path d=\"M0 0h24v24H0V0z\" fill=\"none\"/>\n",
              "    <path d=\"M18.56 5.44l.94 2.06.94-2.06 2.06-.94-2.06-.94-.94-2.06-.94 2.06-2.06.94zm-11 1L8.5 8.5l.94-2.06 2.06-.94-2.06-.94L8.5 2.5l-.94 2.06-2.06.94zm10 10l.94 2.06.94-2.06 2.06-.94-2.06-.94-.94-2.06-.94 2.06-2.06.94z\"/><path d=\"M17.41 7.96l-1.37-1.37c-.4-.4-.92-.59-1.43-.59-.52 0-1.04.2-1.43.59L10.3 9.45l-7.72 7.72c-.78.78-.78 2.05 0 2.83L4 21.41c.39.39.9.59 1.41.59.51 0 1.02-.2 1.41-.59l7.78-7.78 2.81-2.81c.8-.78.8-2.07 0-2.86zM5.41 20L4 18.59l7.72-7.72 1.47 1.35L5.41 20z\"/>\n",
              "  </svg>\n",
              "      </button>\n",
              "      \n",
              "  <style>\n",
              "    .colab-df-container {\n",
              "      display:flex;\n",
              "      flex-wrap:wrap;\n",
              "      gap: 12px;\n",
              "    }\n",
              "\n",
              "    .colab-df-convert {\n",
              "      background-color: #E8F0FE;\n",
              "      border: none;\n",
              "      border-radius: 50%;\n",
              "      cursor: pointer;\n",
              "      display: none;\n",
              "      fill: #1967D2;\n",
              "      height: 32px;\n",
              "      padding: 0 0 0 0;\n",
              "      width: 32px;\n",
              "    }\n",
              "\n",
              "    .colab-df-convert:hover {\n",
              "      background-color: #E2EBFA;\n",
              "      box-shadow: 0px 1px 2px rgba(60, 64, 67, 0.3), 0px 1px 3px 1px rgba(60, 64, 67, 0.15);\n",
              "      fill: #174EA6;\n",
              "    }\n",
              "\n",
              "    [theme=dark] .colab-df-convert {\n",
              "      background-color: #3B4455;\n",
              "      fill: #D2E3FC;\n",
              "    }\n",
              "\n",
              "    [theme=dark] .colab-df-convert:hover {\n",
              "      background-color: #434B5C;\n",
              "      box-shadow: 0px 1px 3px 1px rgba(0, 0, 0, 0.15);\n",
              "      filter: drop-shadow(0px 1px 2px rgba(0, 0, 0, 0.3));\n",
              "      fill: #FFFFFF;\n",
              "    }\n",
              "  </style>\n",
              "\n",
              "      <script>\n",
              "        const buttonEl =\n",
              "          document.querySelector('#df-ddb811a9-6447-49dd-bc35-b4ea0c645606 button.colab-df-convert');\n",
              "        buttonEl.style.display =\n",
              "          google.colab.kernel.accessAllowed ? 'block' : 'none';\n",
              "\n",
              "        async function convertToInteractive(key) {\n",
              "          const element = document.querySelector('#df-ddb811a9-6447-49dd-bc35-b4ea0c645606');\n",
              "          const dataTable =\n",
              "            await google.colab.kernel.invokeFunction('convertToInteractive',\n",
              "                                                     [key], {});\n",
              "          if (!dataTable) return;\n",
              "\n",
              "          const docLinkHtml = 'Like what you see? Visit the ' +\n",
              "            '<a target=\"_blank\" href=https://colab.research.google.com/notebooks/data_table.ipynb>data table notebook</a>'\n",
              "            + ' to learn more about interactive tables.';\n",
              "          element.innerHTML = '';\n",
              "          dataTable['output_type'] = 'display_data';\n",
              "          await google.colab.output.renderOutput(dataTable, element);\n",
              "          const docLink = document.createElement('div');\n",
              "          docLink.innerHTML = docLinkHtml;\n",
              "          element.appendChild(docLink);\n",
              "        }\n",
              "      </script>\n",
              "    </div>\n",
              "  </div>\n",
              "  "
            ],
            "text/plain": [
              "                  Hora  ...                              Nome do evento\n",
              "0      1/02/2022 17:02  ...  Conclusão da atividade do curso atualizada\n",
              "1      1/02/2022 17:02  ...  Conclusão da atividade do curso atualizada\n",
              "2      1/02/2022 17:02  ...  Conclusão da atividade do curso atualizada\n",
              "3      1/02/2022 17:02  ...  Conclusão da atividade do curso atualizada\n",
              "4      1/02/2022 17:01  ...  Conclusão da atividade do curso atualizada\n",
              "...                ...  ...                                         ...\n",
              "3591  14/10/2021 10:04  ...                  Módulo de curso atualizado\n",
              "3592  14/10/2021 10:00  ...                  Módulo de curso atualizado\n",
              "3593  14/10/2021 09:42  ...                  Módulo de curso atualizado\n",
              "3594  14/10/2021 09:36  ...                  Módulo de curso atualizado\n",
              "3595  14/10/2021 09:31  ...                  Tópico de curso atualizado\n",
              "\n",
              "[3596 rows x 4 columns]"
            ]
          },
          "metadata": {},
          "execution_count": 146
        }
      ]
    },
    {
      "cell_type": "code",
      "source": [
        "#filtragem das linhas\n",
        "indexNames = df[ df['Contexto do Evento'] == 'Arquivo: PRO-SETRA-001' ].index\n",
        "# Delete these row indexes from dataFrame\n",
        "df.drop(indexNames , inplace=True)"
      ],
      "metadata": {
        "id": "jB2cyRBhq0R7"
      },
      "execution_count": null,
      "outputs": []
    },
    {
      "cell_type": "code",
      "source": [
        "indexNames = df[ df['Contexto do Evento'] == 'Tarefa: Leitura Obrigatória' ].index\n",
        "df.drop(indexNames , inplace=True)"
      ],
      "metadata": {
        "id": "HvfJM7eVqzyy"
      },
      "execution_count": null,
      "outputs": []
    },
    {
      "cell_type": "code",
      "source": [
        "indexNames = df[ df['Contexto do Evento'] == 'Tarefa: Tarefa - Processo Disciplinar' ].index\n",
        "df.drop(indexNames , inplace=True)"
      ],
      "metadata": {
        "id": "NRGAG6y5qzJk"
      },
      "execution_count": null,
      "outputs": []
    },
    {
      "cell_type": "code",
      "source": [
        "indexNames = df[ df['Contexto do Evento'] == 'Página: PRO-SETRA-001 - LEITURA OBRIGATÓRIA' ].index\n",
        "df.drop(indexNames , inplace=True)"
      ],
      "metadata": {
        "id": "c7pkOUbKqpxP"
      },
      "execution_count": null,
      "outputs": []
    },
    {
      "cell_type": "code",
      "source": [
        "indexNames = df[ df['Contexto do Evento'] == 'Página: PRO-SETRA-001: Emissão de PAs nos Trens' ].index\n",
        "df.drop(indexNames , inplace=True)"
      ],
      "metadata": {
        "id": "86WKj_5YqaRZ"
      },
      "execution_count": null,
      "outputs": []
    },
    {
      "cell_type": "code",
      "source": [
        "indexNames = df[ df['Nome do evento'] != 'Conclusão da atividade do curso atualizada' ].index\n",
        "df.drop(indexNames , inplace=True)"
      ],
      "metadata": {
        "id": "HXXBRB2RUrPJ"
      },
      "execution_count": null,
      "outputs": []
    },
    {
      "cell_type": "code",
      "source": [
        "#change the case\n",
        "df['Nome completo'] = df['Nome completo'].str.title()"
      ],
      "metadata": {
        "id": "V3l1UhZ5VIoR"
      },
      "execution_count": null,
      "outputs": []
    },
    {
      "cell_type": "code",
      "source": [
        "df = df.drop_duplicates()"
      ],
      "metadata": {
        "id": "5_e2ol-GVxCm"
      },
      "execution_count": null,
      "outputs": []
    },
    {
      "cell_type": "code",
      "source": [
        "df"
      ],
      "metadata": {
        "colab": {
          "base_uri": "https://localhost:8080/",
          "height": 641
        },
        "id": "CmIgEaLuV0dM",
        "outputId": "183ab482-ff16-4af5-8833-3562d6f77ae2"
      },
      "execution_count": null,
      "outputs": [
        {
          "output_type": "execute_result",
          "data": {
            "text/html": [
              "\n",
              "  <div id=\"df-caad9def-ff88-44c7-85e6-542f0feb2012\">\n",
              "    <div class=\"colab-df-container\">\n",
              "      <div>\n",
              "<style scoped>\n",
              "    .dataframe tbody tr th:only-of-type {\n",
              "        vertical-align: middle;\n",
              "    }\n",
              "\n",
              "    .dataframe tbody tr th {\n",
              "        vertical-align: top;\n",
              "    }\n",
              "\n",
              "    .dataframe thead th {\n",
              "        text-align: right;\n",
              "    }\n",
              "</style>\n",
              "<table border=\"1\" class=\"dataframe\">\n",
              "  <thead>\n",
              "    <tr style=\"text-align: right;\">\n",
              "      <th></th>\n",
              "      <th>Hora</th>\n",
              "      <th>Nome completo</th>\n",
              "      <th>Contexto do Evento</th>\n",
              "      <th>Nome do evento</th>\n",
              "    </tr>\n",
              "  </thead>\n",
              "  <tbody>\n",
              "    <tr>\n",
              "      <th>0</th>\n",
              "      <td>1/02/2022 17:02</td>\n",
              "      <td>Edelvira Silva</td>\n",
              "      <td>Livro: ANEXO I - CADERNO DE PA'S</td>\n",
              "      <td>Conclusão da atividade do curso atualizada</td>\n",
              "    </tr>\n",
              "    <tr>\n",
              "      <th>2</th>\n",
              "      <td>1/02/2022 17:02</td>\n",
              "      <td>Edelvira Silva</td>\n",
              "      <td>Página: Regulamentação de limite de velocidade...</td>\n",
              "      <td>Conclusão da atividade do curso atualizada</td>\n",
              "    </tr>\n",
              "    <tr>\n",
              "      <th>4</th>\n",
              "      <td>1/02/2022 17:01</td>\n",
              "      <td>Edelvira Silva</td>\n",
              "      <td>Pesquisa: Avaliação de Satisfação - Modalidade...</td>\n",
              "      <td>Conclusão da atividade do curso atualizada</td>\n",
              "    </tr>\n",
              "    <tr>\n",
              "      <th>8</th>\n",
              "      <td>1/02/2022 16:54</td>\n",
              "      <td>Edelvira Silva</td>\n",
              "      <td>Questionário: Teste seus conhecimentos</td>\n",
              "      <td>Conclusão da atividade do curso atualizada</td>\n",
              "    </tr>\n",
              "    <tr>\n",
              "      <th>9</th>\n",
              "      <td>1/02/2022 16:16</td>\n",
              "      <td>Edelvira Silva</td>\n",
              "      <td>Escolha: PRO-SETRA-003</td>\n",
              "      <td>Conclusão da atividade do curso atualizada</td>\n",
              "    </tr>\n",
              "    <tr>\n",
              "      <th>...</th>\n",
              "      <td>...</td>\n",
              "      <td>...</td>\n",
              "      <td>...</td>\n",
              "      <td>...</td>\n",
              "    </tr>\n",
              "    <tr>\n",
              "      <th>3521</th>\n",
              "      <td>18/10/2021 19:57</td>\n",
              "      <td>Vagner Silva Dos Santos</td>\n",
              "      <td>Pesquisa: Avaliação de Satisfação - Modalidade...</td>\n",
              "      <td>Conclusão da atividade do curso atualizada</td>\n",
              "    </tr>\n",
              "    <tr>\n",
              "      <th>3522</th>\n",
              "      <td>18/10/2021 19:57</td>\n",
              "      <td>Vagner Silva Dos Santos</td>\n",
              "      <td>Presença: Presença</td>\n",
              "      <td>Conclusão da atividade do curso atualizada</td>\n",
              "    </tr>\n",
              "    <tr>\n",
              "      <th>3531</th>\n",
              "      <td>18/10/2021 16:56</td>\n",
              "      <td>Solano Cruz Junior</td>\n",
              "      <td>Presença: Presença</td>\n",
              "      <td>Conclusão da atividade do curso atualizada</td>\n",
              "    </tr>\n",
              "    <tr>\n",
              "      <th>3533</th>\n",
              "      <td>18/10/2021 16:41</td>\n",
              "      <td>Solano Cruz Junior</td>\n",
              "      <td>Presença: Presença</td>\n",
              "      <td>Conclusão da atividade do curso atualizada</td>\n",
              "    </tr>\n",
              "    <tr>\n",
              "      <th>3534</th>\n",
              "      <td>18/10/2021 16:40</td>\n",
              "      <td>Solano Cruz Junior</td>\n",
              "      <td>Presença: Presença</td>\n",
              "      <td>Conclusão da atividade do curso atualizada</td>\n",
              "    </tr>\n",
              "  </tbody>\n",
              "</table>\n",
              "<p>1735 rows × 4 columns</p>\n",
              "</div>\n",
              "      <button class=\"colab-df-convert\" onclick=\"convertToInteractive('df-caad9def-ff88-44c7-85e6-542f0feb2012')\"\n",
              "              title=\"Convert this dataframe to an interactive table.\"\n",
              "              style=\"display:none;\">\n",
              "        \n",
              "  <svg xmlns=\"http://www.w3.org/2000/svg\" height=\"24px\"viewBox=\"0 0 24 24\"\n",
              "       width=\"24px\">\n",
              "    <path d=\"M0 0h24v24H0V0z\" fill=\"none\"/>\n",
              "    <path d=\"M18.56 5.44l.94 2.06.94-2.06 2.06-.94-2.06-.94-.94-2.06-.94 2.06-2.06.94zm-11 1L8.5 8.5l.94-2.06 2.06-.94-2.06-.94L8.5 2.5l-.94 2.06-2.06.94zm10 10l.94 2.06.94-2.06 2.06-.94-2.06-.94-.94-2.06-.94 2.06-2.06.94z\"/><path d=\"M17.41 7.96l-1.37-1.37c-.4-.4-.92-.59-1.43-.59-.52 0-1.04.2-1.43.59L10.3 9.45l-7.72 7.72c-.78.78-.78 2.05 0 2.83L4 21.41c.39.39.9.59 1.41.59.51 0 1.02-.2 1.41-.59l7.78-7.78 2.81-2.81c.8-.78.8-2.07 0-2.86zM5.41 20L4 18.59l7.72-7.72 1.47 1.35L5.41 20z\"/>\n",
              "  </svg>\n",
              "      </button>\n",
              "      \n",
              "  <style>\n",
              "    .colab-df-container {\n",
              "      display:flex;\n",
              "      flex-wrap:wrap;\n",
              "      gap: 12px;\n",
              "    }\n",
              "\n",
              "    .colab-df-convert {\n",
              "      background-color: #E8F0FE;\n",
              "      border: none;\n",
              "      border-radius: 50%;\n",
              "      cursor: pointer;\n",
              "      display: none;\n",
              "      fill: #1967D2;\n",
              "      height: 32px;\n",
              "      padding: 0 0 0 0;\n",
              "      width: 32px;\n",
              "    }\n",
              "\n",
              "    .colab-df-convert:hover {\n",
              "      background-color: #E2EBFA;\n",
              "      box-shadow: 0px 1px 2px rgba(60, 64, 67, 0.3), 0px 1px 3px 1px rgba(60, 64, 67, 0.15);\n",
              "      fill: #174EA6;\n",
              "    }\n",
              "\n",
              "    [theme=dark] .colab-df-convert {\n",
              "      background-color: #3B4455;\n",
              "      fill: #D2E3FC;\n",
              "    }\n",
              "\n",
              "    [theme=dark] .colab-df-convert:hover {\n",
              "      background-color: #434B5C;\n",
              "      box-shadow: 0px 1px 3px 1px rgba(0, 0, 0, 0.15);\n",
              "      filter: drop-shadow(0px 1px 2px rgba(0, 0, 0, 0.3));\n",
              "      fill: #FFFFFF;\n",
              "    }\n",
              "  </style>\n",
              "\n",
              "      <script>\n",
              "        const buttonEl =\n",
              "          document.querySelector('#df-caad9def-ff88-44c7-85e6-542f0feb2012 button.colab-df-convert');\n",
              "        buttonEl.style.display =\n",
              "          google.colab.kernel.accessAllowed ? 'block' : 'none';\n",
              "\n",
              "        async function convertToInteractive(key) {\n",
              "          const element = document.querySelector('#df-caad9def-ff88-44c7-85e6-542f0feb2012');\n",
              "          const dataTable =\n",
              "            await google.colab.kernel.invokeFunction('convertToInteractive',\n",
              "                                                     [key], {});\n",
              "          if (!dataTable) return;\n",
              "\n",
              "          const docLinkHtml = 'Like what you see? Visit the ' +\n",
              "            '<a target=\"_blank\" href=https://colab.research.google.com/notebooks/data_table.ipynb>data table notebook</a>'\n",
              "            + ' to learn more about interactive tables.';\n",
              "          element.innerHTML = '';\n",
              "          dataTable['output_type'] = 'display_data';\n",
              "          await google.colab.output.renderOutput(dataTable, element);\n",
              "          const docLink = document.createElement('div');\n",
              "          docLink.innerHTML = docLinkHtml;\n",
              "          element.appendChild(docLink);\n",
              "        }\n",
              "      </script>\n",
              "    </div>\n",
              "  </div>\n",
              "  "
            ],
            "text/plain": [
              "                  Hora  ...                              Nome do evento\n",
              "0      1/02/2022 17:02  ...  Conclusão da atividade do curso atualizada\n",
              "2      1/02/2022 17:02  ...  Conclusão da atividade do curso atualizada\n",
              "4      1/02/2022 17:01  ...  Conclusão da atividade do curso atualizada\n",
              "8      1/02/2022 16:54  ...  Conclusão da atividade do curso atualizada\n",
              "9      1/02/2022 16:16  ...  Conclusão da atividade do curso atualizada\n",
              "...                ...  ...                                         ...\n",
              "3521  18/10/2021 19:57  ...  Conclusão da atividade do curso atualizada\n",
              "3522  18/10/2021 19:57  ...  Conclusão da atividade do curso atualizada\n",
              "3531  18/10/2021 16:56  ...  Conclusão da atividade do curso atualizada\n",
              "3533  18/10/2021 16:41  ...  Conclusão da atividade do curso atualizada\n",
              "3534  18/10/2021 16:40  ...  Conclusão da atividade do curso atualizada\n",
              "\n",
              "[1735 rows x 4 columns]"
            ]
          },
          "metadata": {},
          "execution_count": 155
        }
      ]
    },
    {
      "cell_type": "code",
      "source": [
        "df.info()"
      ],
      "metadata": {
        "colab": {
          "base_uri": "https://localhost:8080/"
        },
        "id": "BKtIq2E7cDqm",
        "outputId": "11375409-6e40-433f-e751-2bcc82180967"
      },
      "execution_count": null,
      "outputs": [
        {
          "output_type": "stream",
          "name": "stdout",
          "text": [
            "<class 'pandas.core.frame.DataFrame'>\n",
            "Int64Index: 1735 entries, 0 to 3534\n",
            "Data columns (total 4 columns):\n",
            " #   Column              Non-Null Count  Dtype \n",
            "---  ------              --------------  ----- \n",
            " 0   Hora                1735 non-null   object\n",
            " 1   Nome completo       1735 non-null   object\n",
            " 2   Contexto do Evento  1735 non-null   object\n",
            " 3   Nome do evento      1735 non-null   object\n",
            "dtypes: object(4)\n",
            "memory usage: 67.8+ KB\n"
          ]
        }
      ]
    },
    {
      "cell_type": "code",
      "source": [
        "len(df['Contexto do Evento'].unique())"
      ],
      "metadata": {
        "colab": {
          "base_uri": "https://localhost:8080/"
        },
        "id": "yxoZJdrijQcA",
        "outputId": "37c60cc4-be79-4c81-fff1-c776e64b7373"
      },
      "execution_count": null,
      "outputs": [
        {
          "output_type": "execute_result",
          "data": {
            "text/plain": [
              "11"
            ]
          },
          "metadata": {},
          "execution_count": 157
        }
      ]
    },
    {
      "cell_type": "code",
      "source": [
        "df['Contexto do Evento'].value_counts()"
      ],
      "metadata": {
        "colab": {
          "base_uri": "https://localhost:8080/"
        },
        "id": "pIi3szyajqnT",
        "outputId": "0b911438-e1c8-4a7c-b53a-eb521bd93f39"
      },
      "execution_count": null,
      "outputs": [
        {
          "output_type": "execute_result",
          "data": {
            "text/plain": [
              "Questionário: Teste seus conhecimentos                                                                           289\n",
              "Presença: Presença                                                                                               155\n",
              "Página: Regulamentação de limite de velocidade aplicada em TUEs da passagem por Empregados em Trânsito na Via    148\n",
              "Página: Condução de Trens                                                                                        147\n",
              "Livro: ANEXO I - CADERNO DE PA'S                                                                                 143\n",
              "Pesquisa: Avaliação de Satisfação - Modalidade EAD                                                               143\n",
              "Escolha: NPG-PES-701 - Apuração Direta                                                                           143\n",
              "Página: Emissão de PA's nos Trens                                                                                143\n",
              "Escolha: PRO-SETRA-003                                                                                           142\n",
              "Escolha: PRO-SETRA-002                                                                                           141\n",
              "Certificado Simples: Emissão de Certificado                                                                      141\n",
              "Name: Contexto do Evento, dtype: int64"
            ]
          },
          "metadata": {},
          "execution_count": 159
        }
      ]
    },
    {
      "cell_type": "code",
      "source": [
        "df.to_csv('atividades_pro_setra.csv')"
      ],
      "metadata": {
        "id": "TDl1-IXYsApC"
      },
      "execution_count": null,
      "outputs": []
    },
    {
      "cell_type": "code",
      "source": [
        ""
      ],
      "metadata": {
        "id": "K55fr41OsBnm"
      },
      "execution_count": null,
      "outputs": []
    }
  ]
}